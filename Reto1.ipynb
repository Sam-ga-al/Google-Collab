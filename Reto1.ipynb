{
  "nbformat": 4,
  "nbformat_minor": 0,
  "metadata": {
    "colab": {
      "provenance": [],
      "authorship_tag": "ABX9TyMykIdHn8IvXb8/amU/6z1P",
      "include_colab_link": true
    },
    "kernelspec": {
      "name": "python3",
      "display_name": "Python 3"
    },
    "language_info": {
      "name": "python"
    }
  },
  "cells": [
    {
      "cell_type": "markdown",
      "metadata": {
        "id": "view-in-github",
        "colab_type": "text"
      },
      "source": [
        "<a href=\"https://colab.research.google.com/github/Sam-ga-al/Google-Collab/blob/main/Reto1.ipynb\" target=\"_parent\"><img src=\"https://colab.research.google.com/assets/colab-badge.svg\" alt=\"Open In Colab\"/></a>"
      ]
    },
    {
      "cell_type": "markdown",
      "source": [
        "0. Se procede con la carga de las librerias de trabajo."
      ],
      "metadata": {
        "id": "XKeQXtuIcmIq"
      }
    },
    {
      "cell_type": "code",
      "source": [
        "import numpy as np\n",
        "import pandas as pd"
      ],
      "metadata": {
        "id": "gzsmVctPcqTW"
      },
      "execution_count": null,
      "outputs": []
    },
    {
      "cell_type": "markdown",
      "source": [
        "1. Se procede con la carga de la base de datos"
      ],
      "metadata": {
        "id": "09cuEDw4cwp3"
      }
    },
    {
      "cell_type": "code",
      "source": [
        "nxl='/content/1. BD2_CarCrash_Int.xlsx'\n",
        "XDB=pd.read_excel(nxl,sheet_name=0)\n",
        "XDB_SF = XDB[XDB['County'] == 'SAN FRANCISCO']\n",
        "\n",
        "XDB_SF=XDB_SF[['Weekday','ViolCat','ClearWeather','Month','CrashType','Highway','Daylight']]\n",
        "XDB_SF['CrashType'] = pd.factorize(XDB_SF['CrashType'])[0]\n",
        "\n",
        "XD=XDB_SF[['Weekday','ViolCat','ClearWeather','Month','CrashType','Daylight']]\n",
        "yd=XDB_SF[['Highway']]\n"
      ],
      "metadata": {
        "collapsed": true,
        "id": "M49LLZGrcx_i"
      },
      "execution_count": null,
      "outputs": []
    },
    {
      "cell_type": "markdown",
      "source": [
        "2. Implementamos el modelo"
      ],
      "metadata": {
        "id": "KZFmBNcqkH1u"
      }
    },
    {
      "cell_type": "markdown",
      "source": [],
      "metadata": {
        "id": "sAih6ZoFm8_f"
      }
    },
    {
      "cell_type": "code",
      "source": [
        "from re import U\n",
        "from sklearn.naive_bayes import GaussianNB\n",
        "\n",
        "mnb=GaussianNB()\n",
        "mnb.fit(XD,yd)\n",
        "\n",
        "ct=mnb.class_count_\n",
        "print(\"El total de los datos es\\n:\",len(XD))\n",
        "print(\"Porcentaje de los datos que hacen parte de una de las categorias de clasificacion es\\n:\",ct/len(XD))\n",
        "\n",
        "#Para obtener la informacion del modelo\n",
        "U=mnb.theta_\n",
        "sigma=np.sqrt(mnb.var_)\n",
        "cv=U/sigma\n",
        "LI=U-sigma; LS=U+sigma\n",
        "ndc=mnb.class_count_\n",
        "pdnc=mnb.class_prior_  # % de los datos por categoria\n",
        "\n",
        "print(\"Titulos\")\n",
        "print(\"La media de los datos es\\n:\",U)\n",
        "print(\"Los limites superiores son\\n:\",U+sigma)\n",
        "print(\"Los limites inferiores son\\n:\",U-sigma)\n",
        "\n",
        "\n",
        "\n",
        "#Para evaluar una persona con las siguientes caracteristicas\n",
        "XS=[[5,1,1,3,4,0]]\n",
        "mnb.predict(XS)\n",
        "\n"
      ],
      "metadata": {
        "colab": {
          "base_uri": "https://localhost:8080/"
        },
        "id": "mGohlCLtkYFU",
        "outputId": "43e51ad2-9e21-4973-dbed-c4777ef817b2"
      },
      "execution_count": null,
      "outputs": [
        {
          "output_type": "stream",
          "name": "stdout",
          "text": [
            "El total de los datos es\n",
            ": 2081\n",
            "Porcentaje de los datos que hacen parte de una de las categorias de clasificacion es\n",
            ": [0.75925036 0.24074964]\n",
            "Titulos\n",
            "La media de los datos es\n",
            ": [[3.88417722 7.45696203 0.86265823 4.35189873 3.21772152 0.66265823]\n",
            " [3.9261477  4.1497006  0.79840319 6.69461078 2.27744511 0.62075848]]\n",
            "Los limites superiores son\n",
            ": [[ 5.83480263 10.978332    1.20686605  6.69526323  5.09144114  1.13546084]\n",
            " [ 5.94218494  6.31168962  1.19959585 10.13624719  3.33509959  1.10595679]]\n",
            "Los limites inferiores son\n",
            ": [[1.9335518  3.93559205 0.51845041 2.00853424 1.3440019  0.18985561]\n",
            " [1.91011047 1.98771158 0.39721054 3.25297437 1.21979063 0.13556017]]\n"
          ]
        },
        {
          "output_type": "stream",
          "name": "stderr",
          "text": [
            "/usr/local/lib/python3.11/dist-packages/sklearn/utils/validation.py:1408: DataConversionWarning: A column-vector y was passed when a 1d array was expected. Please change the shape of y to (n_samples, ), for example using ravel().\n",
            "  y = column_or_1d(y, warn=True)\n",
            "/usr/local/lib/python3.11/dist-packages/sklearn/utils/validation.py:2739: UserWarning: X does not have valid feature names, but GaussianNB was fitted with feature names\n",
            "  warnings.warn(\n"
          ]
        },
        {
          "output_type": "execute_result",
          "data": {
            "text/plain": [
              "array([0])"
            ]
          },
          "metadata": {},
          "execution_count": 20
        }
      ]
    },
    {
      "cell_type": "markdown",
      "source": [
        "3. Se procede con la evaluacion de desemepño del modelo"
      ],
      "metadata": {
        "id": "Ww-8Nw0J3CZY"
      }
    },
    {
      "cell_type": "code",
      "source": [
        "ydp=mnb.predict(XD)\n",
        "from sklearn.metrics import confusion_matrix\n",
        "cm=confusion_matrix(yd,ydp)\n",
        "print(cm)\n",
        "\n",
        "#Exactitud\n",
        "VN=cm[0,0];FP=cm[0,1];FN=cm[1,0];VP=cm[1,1]\n",
        "Ex = (VN+VP)/(VN+VP+FP+FN)\n",
        "print(\"La exactitud es:\",Ex)\n",
        "\n",
        "#Tasa de error\n",
        "TE=(FP+FN)/(VN+VP+FP+FN)\n",
        "print(\"La tasa de error es:\",TE)\n",
        "\n",
        "#Sensibilidad\n",
        "SEN=VP/(VP+FN)\n",
        "print(\"La sensibilidad es:\",SEN)\n",
        "\n",
        "#Especificidad\n",
        "Esp=VN/(VN+FP)\n",
        "print(\"La espcificidad es:\",Esp)\n",
        "\n",
        "#Presicion\n",
        "Pre=VP/(VP+FP)\n",
        "print(\"La presicion es:\",Pre)\n"
      ],
      "metadata": {
        "colab": {
          "base_uri": "https://localhost:8080/"
        },
        "id": "b8cM4IOM3JtV",
        "outputId": "a14e66b8-d759-48b3-ff7c-5fcc6eaca277"
      },
      "execution_count": null,
      "outputs": [
        {
          "output_type": "stream",
          "name": "stdout",
          "text": [
            "[[1365  215]\n",
            " [ 224  277]]\n",
            "La exactitud es: 0.7890437289764536\n",
            "La tasa de error es: 0.21095627102354636\n",
            "La sensibilidad es: 0.5528942115768463\n",
            "La espcificidad es: 0.8639240506329114\n",
            "La presicion es: 0.5630081300813008\n"
          ]
        }
      ]
    },
    {
      "cell_type": "markdown",
      "source": [
        "Analisis de resultados:\n",
        "El modelo de Naive Bayes Gaussiano, implementado para predecir accidentes en carreteras usando las variables dadas, muestra un rendimiento aceptable. Su exactitud es de un 78%, prediciendo correctamente la ocurrencia de accidentes. Sin embargo, la tasa de error (21%) indica que hay margen de mejora. La capacidad del modelo para identificar correctamente los accidentes reales (sensibilidad) es de (55%), mientras que su capacidad para identificar correctamente los casos sin accidentes (especificidad) es de 86%. La precisión, que refleja la proporción de predicciones positivas correctas, se sitúa en 56%.Por otro lado aunque la exactitud general es aceptable, la sensibilidad y la precisión podrían optimizarse   para un rendimiento más fiable en la identificación de accidentes."
      ],
      "metadata": {
        "id": "oRnM1H7q-dno"
      }
    }
  ]
}