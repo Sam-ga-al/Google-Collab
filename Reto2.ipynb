{
  "nbformat": 4,
  "nbformat_minor": 0,
  "metadata": {
    "colab": {
      "provenance": [],
      "include_colab_link": true
    },
    "kernelspec": {
      "name": "python3",
      "display_name": "Python 3"
    },
    "language_info": {
      "name": "python"
    }
  },
  "cells": [
    {
      "cell_type": "markdown",
      "metadata": {
        "id": "view-in-github",
        "colab_type": "text"
      },
      "source": [
        "<a href=\"https://colab.research.google.com/github/Sam-ga-al/Google-Collab/blob/main/Reto2.ipynb\" target=\"_parent\"><img src=\"https://colab.research.google.com/assets/colab-badge.svg\" alt=\"Open In Colab\"/></a>"
      ]
    },
    {
      "cell_type": "markdown",
      "source": [
        "0. Se procede con la carga de las librerias de trabajo"
      ],
      "metadata": {
        "id": "v4CVaUbRxZJt"
      }
    },
    {
      "cell_type": "markdown",
      "source": [
        "Descripcion de las variables:\n",
        "Para la implementación del modelo de árbol de decisión, se tomaron un total de 8 variables de entrada: 'Business', 'Age', 'Female', 'Years', 'Certificates', 'Feedback', 'Salary', y 'NPS'.\n",
        "Business: Es el tipo de negocio (0 para Hardware, 1 para Software).\n",
        "Age: Edad de la persona.\n",
        "Female: Es el género de la persona\n",
        "Years: Los años de experiencia.\n",
        "Certificates: Número de certificados obtenidos.\n",
        "Feedback: Nivel de satisfacción  del cliente.\n",
        "Salary: Salario de la persona.\n",
        "NPS: Net Promoter Score, una métrica de lealtad del cliente.\n",
        "La variable de salida es 'College', la cual indica si la persona está inscrita en la universidad (1) o no (0)."
      ],
      "metadata": {
        "id": "Sjd3tBK3DgRv"
      }
    },
    {
      "cell_type": "code",
      "source": [
        "import numpy as np\n",
        "import pandas as pd\n",
        "\n",
        "# Para implementacion y evaluacion del modelo\n",
        "from sklearn.tree import DecisionTreeClassifier\n",
        "from sklearn.metrics import confusion_matrix\n",
        "\n",
        "\n",
        "from google.colab import drive\n",
        "drive.mount('/content/drive')"
      ],
      "metadata": {
        "colab": {
          "base_uri": "https://localhost:8080/"
        },
        "id": "BJ9HQcJAxcgU",
        "outputId": "f620d9f2-4966-460e-b56b-f08b542e08c1"
      },
      "execution_count": null,
      "outputs": [
        {
          "output_type": "error",
          "ename": "ValueError",
          "evalue": "mount failed",
          "traceback": [
            "\u001b[0;31m---------------------------------------------------------------------------\u001b[0m",
            "\u001b[0;31mValueError\u001b[0m                                Traceback (most recent call last)",
            "\u001b[0;32m<ipython-input-3-c938bb3498a8>\u001b[0m in \u001b[0;36m<cell line: 0>\u001b[0;34m()\u001b[0m\n\u001b[1;32m      8\u001b[0m \u001b[0;34m\u001b[0m\u001b[0m\n\u001b[1;32m      9\u001b[0m \u001b[0;32mfrom\u001b[0m \u001b[0mgoogle\u001b[0m\u001b[0;34m.\u001b[0m\u001b[0mcolab\u001b[0m \u001b[0;32mimport\u001b[0m \u001b[0mdrive\u001b[0m\u001b[0;34m\u001b[0m\u001b[0;34m\u001b[0m\u001b[0m\n\u001b[0;32m---> 10\u001b[0;31m \u001b[0mdrive\u001b[0m\u001b[0;34m.\u001b[0m\u001b[0mmount\u001b[0m\u001b[0;34m(\u001b[0m\u001b[0;34m'/content/drive'\u001b[0m\u001b[0;34m)\u001b[0m\u001b[0;34m\u001b[0m\u001b[0;34m\u001b[0m\u001b[0m\n\u001b[0m",
            "\u001b[0;32m/usr/local/lib/python3.11/dist-packages/google/colab/drive.py\u001b[0m in \u001b[0;36mmount\u001b[0;34m(mountpoint, force_remount, timeout_ms, readonly)\u001b[0m\n\u001b[1;32m     98\u001b[0m \u001b[0;32mdef\u001b[0m \u001b[0mmount\u001b[0m\u001b[0;34m(\u001b[0m\u001b[0mmountpoint\u001b[0m\u001b[0;34m,\u001b[0m \u001b[0mforce_remount\u001b[0m\u001b[0;34m=\u001b[0m\u001b[0;32mFalse\u001b[0m\u001b[0;34m,\u001b[0m \u001b[0mtimeout_ms\u001b[0m\u001b[0;34m=\u001b[0m\u001b[0;36m120000\u001b[0m\u001b[0;34m,\u001b[0m \u001b[0mreadonly\u001b[0m\u001b[0;34m=\u001b[0m\u001b[0;32mFalse\u001b[0m\u001b[0;34m)\u001b[0m\u001b[0;34m:\u001b[0m\u001b[0;34m\u001b[0m\u001b[0;34m\u001b[0m\u001b[0m\n\u001b[1;32m     99\u001b[0m   \u001b[0;34m\"\"\"Mount your Google Drive at the specified mountpoint path.\"\"\"\u001b[0m\u001b[0;34m\u001b[0m\u001b[0;34m\u001b[0m\u001b[0m\n\u001b[0;32m--> 100\u001b[0;31m   return _mount(\n\u001b[0m\u001b[1;32m    101\u001b[0m       \u001b[0mmountpoint\u001b[0m\u001b[0;34m,\u001b[0m\u001b[0;34m\u001b[0m\u001b[0;34m\u001b[0m\u001b[0m\n\u001b[1;32m    102\u001b[0m       \u001b[0mforce_remount\u001b[0m\u001b[0;34m=\u001b[0m\u001b[0mforce_remount\u001b[0m\u001b[0;34m,\u001b[0m\u001b[0;34m\u001b[0m\u001b[0;34m\u001b[0m\u001b[0m\n",
            "\u001b[0;32m/usr/local/lib/python3.11/dist-packages/google/colab/drive.py\u001b[0m in \u001b[0;36m_mount\u001b[0;34m(mountpoint, force_remount, timeout_ms, ephemeral, readonly)\u001b[0m\n\u001b[1;32m    275\u001b[0m             \u001b[0;34m'https://research.google.com/colaboratory/faq.html#drive-timeout'\u001b[0m\u001b[0;34m\u001b[0m\u001b[0;34m\u001b[0m\u001b[0m\n\u001b[1;32m    276\u001b[0m         )\n\u001b[0;32m--> 277\u001b[0;31m       \u001b[0;32mraise\u001b[0m \u001b[0mValueError\u001b[0m\u001b[0;34m(\u001b[0m\u001b[0;34m'mount failed'\u001b[0m \u001b[0;34m+\u001b[0m \u001b[0mextra_reason\u001b[0m\u001b[0;34m)\u001b[0m\u001b[0;34m\u001b[0m\u001b[0;34m\u001b[0m\u001b[0m\n\u001b[0m\u001b[1;32m    278\u001b[0m     \u001b[0;32melif\u001b[0m \u001b[0mcase\u001b[0m \u001b[0;34m==\u001b[0m \u001b[0;36m4\u001b[0m\u001b[0;34m:\u001b[0m\u001b[0;34m\u001b[0m\u001b[0;34m\u001b[0m\u001b[0m\n\u001b[1;32m    279\u001b[0m       \u001b[0;31m# Terminate the DriveFS binary before killing bash.\u001b[0m\u001b[0;34m\u001b[0m\u001b[0;34m\u001b[0m\u001b[0m\n",
            "\u001b[0;31mValueError\u001b[0m: mount failed"
          ]
        }
      ]
    },
    {
      "cell_type": "markdown",
      "source": [
        "1. Se procede con la carga de la base de datos"
      ],
      "metadata": {
        "id": "Jtzy9D2xzmQi"
      }
    },
    {
      "cell_type": "code",
      "source": [
        "nxl= '/content/drive/MyDrive/2. TechSalesReport_Int_L.xlsx'\n",
        "XDB=pd.read_excel(nxl,sheet_name=0)\n",
        "XDB['College']= XDB['College'].replace({'Yes':1,'No':0})\n",
        "\n",
        "XDB['Business']= XDB['Business'].replace({'Hardware':0,'Software':1})\n",
        "\n",
        "\n",
        "# Seleccionar las variables\n",
        "XD=XDB[['Business','Age','Female','Years','Certificates','Feedback','Salary','NPS']]\n",
        "yd=XDB[['College']]"
      ],
      "metadata": {
        "id": "aIkblBrOzn33"
      },
      "execution_count": null,
      "outputs": []
    },
    {
      "cell_type": "markdown",
      "source": [
        "2. Se procede con la implementacion del modelo"
      ],
      "metadata": {
        "id": "tvXjRCZ232er"
      }
    },
    {
      "cell_type": "code",
      "source": [
        "mar=DecisionTreeClassifier(criterion='gini',max_depth=4)\n",
        "mar.fit(XD,yd)\n",
        "\n",
        "# Se procede con el despliegue del arbol\n",
        "from sklearn.tree import export_graphviz # Para exportar\n",
        "from pydotplus import graph_from_dot_data # Crear el grafico\n",
        "\n",
        "vs=['Business','Age','Female','Years','Certificates','Feedback','Salary','NPS']\n",
        "dot_data=export_graphviz(mar,feature_names=vs)\n",
        "graph=graph_from_dot_data(dot_data)\n",
        "graph.write_png('2.RetoArbolCollege.png')\n",
        "\n",
        "\n"
      ],
      "metadata": {
        "colab": {
          "base_uri": "https://localhost:8080/"
        },
        "id": "N1u8o7Zs36YJ",
        "outputId": "36e8b88c-3e08-4ad3-c3b2-a5e6911a62ca"
      },
      "execution_count": null,
      "outputs": [
        {
          "output_type": "execute_result",
          "data": {
            "text/plain": [
              "True"
            ]
          },
          "metadata": {},
          "execution_count": 4
        }
      ]
    },
    {
      "cell_type": "markdown",
      "source": [
        "3. Desempeño del modelo"
      ],
      "metadata": {
        "id": "kierMMu48G0X"
      }
    },
    {
      "cell_type": "code",
      "source": [
        "from os import EX_CANTCREAT\n",
        "ydp=mar.predict(XD)\n",
        "cm=confusion_matrix(yd,ydp)\n",
        "print(cm)\n",
        "\n",
        "VN=cm[0,0];FP=cm[0,1];FN=cm[1,0];VP=cm[1,1]\n",
        "\n",
        "Exactitud=(VP+VN)/(VP+VN+FP+FN) # Funcionamiento general del modelo\n",
        "print(\"La exactitud es:\\n\",Exactitud)\n",
        "Sensibilidad=VP/(VP+FN) # Como se comporto el modelo con los aprobados\n",
        "print(\"La sensibilidad es:\\n\",Sensibilidad)\n",
        "Especificidad=VN/(VN+FP) # Como se comporto el modelo con los negados\n",
        "print(\"La especificidad es:\\n\",Especificidad)\n",
        "Precision=VP/(VP+FP) # Cual es el acierto clasifiancdo a los positivos\n",
        "print(\"La precision es:\\n\",Precision)\n",
        "TasaError=(FP+FN)/(VP+VN+FP+FN) # Equivocacion general\n",
        "print(\"La tasa de error es:\\n\",TasaError)\n",
        "PredNega=VN/(VN+FN) # Como funciona el modelo negando creditos\n",
        "print(\"La tasa de prediccion negativa es:\\n\",PredNega)"
      ],
      "metadata": {
        "colab": {
          "base_uri": "https://localhost:8080/",
          "height": 216
        },
        "id": "V6U6pERG8MCd",
        "outputId": "c013c177-00a0-483c-c6d6-b685a7c2211c"
      },
      "execution_count": null,
      "outputs": [
        {
          "output_type": "error",
          "ename": "NameError",
          "evalue": "name 'mar' is not defined",
          "traceback": [
            "\u001b[0;31m---------------------------------------------------------------------------\u001b[0m",
            "\u001b[0;31mNameError\u001b[0m                                 Traceback (most recent call last)",
            "\u001b[0;32m<ipython-input-2-13725eaf2891>\u001b[0m in \u001b[0;36m<cell line: 0>\u001b[0;34m()\u001b[0m\n\u001b[1;32m      1\u001b[0m \u001b[0;32mfrom\u001b[0m \u001b[0mos\u001b[0m \u001b[0;32mimport\u001b[0m \u001b[0mEX_CANTCREAT\u001b[0m\u001b[0;34m\u001b[0m\u001b[0;34m\u001b[0m\u001b[0m\n\u001b[0;32m----> 2\u001b[0;31m \u001b[0mydp\u001b[0m\u001b[0;34m=\u001b[0m\u001b[0mmar\u001b[0m\u001b[0;34m.\u001b[0m\u001b[0mpredict\u001b[0m\u001b[0;34m(\u001b[0m\u001b[0mXD\u001b[0m\u001b[0;34m)\u001b[0m\u001b[0;34m\u001b[0m\u001b[0;34m\u001b[0m\u001b[0m\n\u001b[0m\u001b[1;32m      3\u001b[0m \u001b[0mcm\u001b[0m\u001b[0;34m=\u001b[0m\u001b[0mconfusion_matrix\u001b[0m\u001b[0;34m(\u001b[0m\u001b[0myd\u001b[0m\u001b[0;34m,\u001b[0m\u001b[0mydp\u001b[0m\u001b[0;34m)\u001b[0m\u001b[0;34m\u001b[0m\u001b[0;34m\u001b[0m\u001b[0m\n\u001b[1;32m      4\u001b[0m \u001b[0mprint\u001b[0m\u001b[0;34m(\u001b[0m\u001b[0mcm\u001b[0m\u001b[0;34m)\u001b[0m\u001b[0;34m\u001b[0m\u001b[0;34m\u001b[0m\u001b[0m\n\u001b[1;32m      5\u001b[0m \u001b[0;34m\u001b[0m\u001b[0m\n",
            "\u001b[0;31mNameError\u001b[0m: name 'mar' is not defined"
          ]
        }
      ]
    },
    {
      "cell_type": "markdown",
      "source": [
        "4. Caracterizacion base de datos"
      ],
      "metadata": {
        "id": "dJsCmWs09TS0"
      }
    },
    {
      "cell_type": "code",
      "source": [
        "Total_Personas=len(XDB)\n",
        "Total_Inscritos= VP+FN\n",
        "Total_NoInscritos= VN+FP\n",
        "print('El total de personas es:\\n',Total_Personas)\n",
        "print('El total de personas inscritas es:\\n',Total_Inscritos)\n",
        "print ('El total de personas no inscritas es:\\n',Total_NoInscritos)\n"
      ],
      "metadata": {
        "colab": {
          "base_uri": "https://localhost:8080/"
        },
        "id": "NJO13zXS9xjy",
        "outputId": "22852cfc-a4e6-4923-fc53-c24a9028f2a0"
      },
      "execution_count": null,
      "outputs": [
        {
          "output_type": "stream",
          "name": "stdout",
          "text": [
            "El total de personas es:\n",
            " 21990\n",
            "El total de personas inscritas es:\n",
            " 17520\n",
            "El total de personas no inscritas es:\n",
            " 4470\n"
          ]
        }
      ]
    },
    {
      "cell_type": "markdown",
      "source": [
        "5. Infomre"
      ],
      "metadata": {
        "id": "2bExHZXxDns4"
      }
    },
    {
      "cell_type": "code",
      "source": [
        "# Cargar los datos de la segunda hoja (sheet 1)\n",
        "XDB_pred = pd.read_excel(nxl, sheet_name=1)\n",
        "\n",
        "# Convertir las variables categóricas igual que en el entrenamiento\n",
        "XDB_pred['Business'] = pd.factorize(XDB_pred['Business'])[0]\n",
        "\n",
        "# Seleccionar las mismas variables predictoras\n",
        "XD_pred = XDB_pred[['Business', 'Age', 'Female', 'Years', 'Certificates', 'Feedback', 'Salary', 'NPS']]\n",
        "\n",
        "# Realizar las predicciones\n",
        "yd_pred = mar.predict(XD_pred)\n",
        "print(\"Las predicciones son:\\n\", yd_pred)\n",
        "\n",
        "# Crear el informe con las predicciones\n",
        "XDB_pred['College_Predicted'] = yd_pred\n",
        "print(XDB_pred.head(10))\n",
        "\n",
        "# Crear el informe con la preaprobacion\n",
        "dfp=pd.DataFrame(np.column_stack((XD_pred,yd_pred)))\n",
        "dfp.columns=[['Business','Age','Female','Years','Certificates','Feedback','Salary','NPS','College_Predicted']]\n",
        "dfp.head(10)\n",
        "dfp.to_excel('InformeCollege.xlsx')\n"
      ],
      "metadata": {
        "colab": {
          "base_uri": "https://localhost:8080/"
        },
        "id": "c726wlLRgm-d",
        "outputId": "929b65f3-9256-45de-fd99-3098e6bac5a2"
      },
      "execution_count": null,
      "outputs": [
        {
          "output_type": "stream",
          "name": "stdout",
          "text": [
            "Las predicciones son:\n",
            " [1 1 1 1 1 1 1 1 1 1 1 1 1 1 1 1]\n",
            "   Sales_Rep  Business  Age  Female  Years Personality  Certificates  \\\n",
            "0          1         0   63       0      2    Sentinel             5   \n",
            "1          2         1   38       1      2    Diplomat             4   \n",
            "2          3         1   47       0      1     Analyst             2   \n",
            "3          4         1   25       0      1    Explorer             2   \n",
            "4          5         0   49       0     10    Explorer             4   \n",
            "5          6         1   48       0      1    Diplomat             1   \n",
            "6          7         1   25       1      1    Explorer             6   \n",
            "7          8         0   39       0      1    Diplomat             2   \n",
            "8          9         1   29       0      1    Explorer             5   \n",
            "9         10         1   45       1      3    Diplomat             3   \n",
            "\n",
            "   Feedback  Salary  NPS  College_Predicted  \n",
            "0      3.49  133000    8                  1  \n",
            "1      3.33   80400    6                  1  \n",
            "2      2.12   57000    7                  1  \n",
            "3      2.89   79000    7                  1  \n",
            "4      2.52  127000    6                  1  \n",
            "5      3.35   62000    6                  1  \n",
            "6      1.16   74000    7                  1  \n",
            "7      2.12  112000    5                  1  \n",
            "8      2.74   78000    8                  1  \n",
            "9      2.90   74000    7                  1  \n"
          ]
        }
      ]
    },
    {
      "cell_type": "markdown",
      "source": [
        "Analisis de resultados:\n",
        "El modelo de árbol de decisión para la predicción de inscripción universitaria se construyó utilizando una base de datos de 5000 registros, con una distribución equilibrada de 2500 personas inscritas y 2500 no inscritas. Tras la ejecución del modelo, se obtuvo una exactitud del 79.88%, lo que indica un buen funcionamiento general en la predicción. La sensibilidad, que mide la capacidad del modelo para identificar correctamente a los inscritos, alcanzó un impresionante 99.61%, demostrando una alta precisión en la identificación de este grupo. Sin embargo, la especificidad, que evalúa la capacidad de identificar a los no inscritos, se ubicó en un bajo 2.55%, lo que sugiere que el modelo tiene dificultades para identificar correctamente a este grupo. La precisión del modelo, que representa la probabilidad de acierto al predecir una inscripción, fue del 80.02%. La tasa de error, que refleja la proporción de predicciones incorrectas, se mantuvo en un 20.12%. Finalmente, la tasa de predicción negativa, que mide la capacidad del modelo para predecir correctamente la no inscripción, fue del 62.30%. Para concluir , el modelo de árbol de decisión desarrollado presenta un buen desempeño general en la predicción de la inscripción universitaria, con una alta exactitud y sensibilidad. Sin embargo, se debe tener en cuenta su baja especificidad, lo que indica la necesidad de mejorar su capacidad para identificar correctamente a las personas no inscritas."
      ],
      "metadata": {
        "id": "fYm3uYA5EEd2"
      }
    }
  ]
}